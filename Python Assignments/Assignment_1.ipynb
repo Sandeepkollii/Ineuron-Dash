{
 "cells": [
  {
   "cell_type": "markdown",
   "id": "3342d98a",
   "metadata": {},
   "source": [
    "# Assignment Solutions"
   ]
  },
  {
   "cell_type": "markdown",
   "id": "b936db65",
   "metadata": {},
   "source": [
    "#### 1. In the below elements which of them are values or an expression? eg:- values can be integer or string and expressions will be mathematical operators.\n",
    "`*`,`'hello'`, `-87.8`,`-`,`/`,`+`,`6`\n",
    "\n",
    "**Ans:** There are a total of 4 Operators and 3 Expressions, They are:  \n",
    "**Operators:** `*`,`-`,`/`,`+`  \n",
    "**Expressions:** `'hello'`, `87.8`, `6`"
   ]
  },
  {
   "cell_type": "markdown",
   "id": "22a18490",
   "metadata": {},
   "source": [
    "#### 2. What is the difference between string and variable?"
   ]
  },
  {
   "cell_type": "markdown",
   "id": "82d805bb",
   "metadata": {},
   "source": [
    "**Ans:** A Variable is used to store of information, and a String is a type of information you would store in a Variable. A String is a group of characters or a single character usually enclosed in Double quotes `\" \"` or single quotes `' '`"
   ]
  },
  {
   "cell_type": "markdown",
   "id": "5bfbfb63",
   "metadata": {},
   "source": [
    "#### 3.Describe three different data types.\n",
    "\n",
    "**Ans:** The three types of different data types of python are `int`,`float`,`complex`.\n",
    "1. **int data type**: We can use int data type to represent whole numbers (integral values)\n",
    "2. **float data type**: We can use float data type to represent floating point values (decimal values)\n",
    "3. **complex data type**: Complex number is represented by complex class. It is specified as (real part) + (imaginary part)j. "
   ]
  },
  {
   "cell_type": "markdown",
   "id": "a545557b",
   "metadata": {},
   "source": [
    "#### 4.What is an expression made up of? What do all expressions do?\n",
    "**Ans:** An expression is a combination of values, variables, operators, and calls to functions.\n",
    "    Expressions need to be evaluated. If we ask Python to print an expression, the interpreter \n",
    "    evaluates the expression and displays the result"
   ]
  },
  {
   "cell_type": "markdown",
   "id": "5c62546c",
   "metadata": {},
   "source": [
    "#### 5.This assignment statements, like spam = 10. What is the difference between an expression and a statement?\n",
    "**Ans:** An expression is a combination of values, variables, and operators.When we type an expression at the prompt, \n",
    "the interpreter evaluates it, which means that it finds the value of the expression"
   ]
  },
  {
   "cell_type": "markdown",
   "id": "94e3bf23",
   "metadata": {},
   "source": [
    "**Statement:** A statement is a unit of code that has an effect, like creating a variable or displaying a value.When we type a statement,\n",
    "the interpreter executes it, which means that it does whatever the statement says. In general, statements don’t have values"
   ]
  },
  {
   "cell_type": "code",
   "execution_count": 2,
   "id": "1bee8c18",
   "metadata": {},
   "outputs": [
    {
     "data": {
      "text/plain": [
       "'Ineuron Assignment 1'"
      ]
     },
     "execution_count": 2,
     "metadata": {},
     "output_type": "execute_result"
    }
   ],
   "source": [
    "20+10*2 ##is an expression\n",
    "course = \"Ineuron Assignment 1\" ## is a statement\n",
    "course"
   ]
  },
  {
   "cell_type": "markdown",
   "id": "bbedd961",
   "metadata": {},
   "source": [
    "#### 6. After running the following code, what does the variable bacon contain? "
   ]
  },
  {
   "cell_type": "code",
   "execution_count": 6,
   "id": "21b3eb3d",
   "metadata": {},
   "outputs": [
    {
     "data": {
      "text/plain": [
       "22"
      ]
     },
     "execution_count": 6,
     "metadata": {},
     "output_type": "execute_result"
    }
   ],
   "source": [
    "bacon = 22\n",
    "bacon+1\n",
    "bacon "
   ]
  },
  {
   "cell_type": "markdown",
   "id": "74bd6e9b",
   "metadata": {},
   "source": [
    "**Ans:** The bacon prints the value 22 and bacon+1 does not assign to the bacon as it is a expression and to assign the value of bacon+1 we should assign `bacon`  = `bacon + 1`"
   ]
  },
  {
   "cell_type": "markdown",
   "id": "b71840e0",
   "metadata": {},
   "source": [
    "#### 7. What should the values of the following two terms be?\n",
    "`'spam'+'spamspam'`  \n",
    "`'spam'*3`\n",
    "\n",
    "**Ans:** Both expressions evaluate to the string **`'spamspamspam'`**\n",
    "Where as the first expression follows `String Concatentation` and the second expression follows `String Multiplication`"
   ]
  },
  {
   "cell_type": "markdown",
   "id": "b740d589",
   "metadata": {},
   "source": [
    "#### 8. Why is eggs a valid variable name while 100 is invalid?\n",
    "**Ans:** As per python,Variable names cannot begin with a number. The python rules for naming a variable are :- \n",
    "1. Variable name must start with a letter or the underscore character.\n",
    "2. Variable name cannot start with a number.\n",
    "3. Variable name can only contain alpha-numeric characters and underscores (A-z, 0-9, & _ ).\n",
    "4. Variable names are case-sensitive (name, `SANDEEP` and `sandeep` are three different variables).\n",
    "5. The reserved words(keywords) cannot be used naming the variable."
   ]
  },
  {
   "cell_type": "code",
   "execution_count": 7,
   "id": "94ad7678",
   "metadata": {},
   "outputs": [
    {
     "ename": "SyntaxError",
     "evalue": "cannot assign to literal (Temp/ipykernel_8568/2376616977.py, line 2)",
     "output_type": "error",
     "traceback": [
      "\u001b[1;36m  File \u001b[1;32m\"C:\\Users\\SATYAS~1\\AppData\\Local\\Temp/ipykernel_8568/2376616977.py\"\u001b[1;36m, line \u001b[1;32m2\u001b[0m\n\u001b[1;33m    100='sandeep' # Invalid Variable Initilization\u001b[0m\n\u001b[1;37m    ^\u001b[0m\n\u001b[1;31mSyntaxError\u001b[0m\u001b[1;31m:\u001b[0m cannot assign to literal\n"
     ]
    }
   ],
   "source": [
    "egg='SANDEEP' # Valid variable Initilization\n",
    "100='sandeep' # Invalid Variable Initilization\n",
    "print(egg) #prints the value of egg ie Ineuron\n",
    "print(100) # Raises a Syntax Error as 100 is not a valid variable name"
   ]
  },
  {
   "cell_type": "markdown",
   "id": "93f69b51",
   "metadata": {},
   "source": [
    "#### 10.Why does this expression cause an error? how can you fix it?  \n",
    "`'I have eaten ' + 99 + 'burritos.'`\n",
    "\n",
    "**Ans:** This cause of error is 99.because 99 is not a string. 99 must be typecasted to a string to fix this error. the correct way is:  \n",
    "**Input:** `'I have eaten ' + str(99) + 'burritos.'`  \n",
    "**Output:** `'I have eaten 99 burritos.'`"
   ]
  },
  {
   "cell_type": "code",
   "execution_count": 8,
   "id": "8ed65709",
   "metadata": {},
   "outputs": [
    {
     "name": "stdout",
     "output_type": "stream",
     "text": [
      "I have eaten 99 burritos\n"
     ]
    }
   ],
   "source": [
    "print('I have eaten '+str(99)+' burritos')"
   ]
  },
  {
   "cell_type": "code",
   "execution_count": null,
   "id": "e4a6050a",
   "metadata": {},
   "outputs": [],
   "source": []
  }
 ],
 "metadata": {
  "kernelspec": {
   "display_name": "Python 3 (ipykernel)",
   "language": "python",
   "name": "python3"
  },
  "language_info": {
   "codemirror_mode": {
    "name": "ipython",
    "version": 3
   },
   "file_extension": ".py",
   "mimetype": "text/x-python",
   "name": "python",
   "nbconvert_exporter": "python",
   "pygments_lexer": "ipython3",
   "version": "3.9.7"
  }
 },
 "nbformat": 4,
 "nbformat_minor": 5
}
